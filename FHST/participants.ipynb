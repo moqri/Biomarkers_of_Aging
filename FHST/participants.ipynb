{
 "cells": [
  {
   "cell_type": "code",
   "execution_count": 1,
   "id": "8e0311dd",
   "metadata": {},
   "outputs": [],
   "source": [
    "#Author Mahdi Moqri"
   ]
  },
  {
   "cell_type": "code",
   "execution_count": 4,
   "id": "5ad81793",
   "metadata": {},
   "outputs": [],
   "source": [
    "import os\n",
    "import pandas as pd"
   ]
  },
  {
   "cell_type": "code",
   "execution_count": 5,
   "id": "1decea95",
   "metadata": {},
   "outputs": [],
   "source": [
    "# \"frmgham2.csv\": https://gen3.biodatacatalyst.nhlbi.nih.gov/files/dg.4503/9c277b3d-3fab-401e-b1dd-d2e6c7991cbc\n",
    "# data dic here: https://biolincc.nhlbi.nih.gov/media/teachingstudies/FHS_Teaching_Longitudinal_Data_Documentation_2021a.pdf?link_time=2022-04-18_09:29:24.200176"
   ]
  },
  {
   "cell_type": "code",
   "execution_count": 6,
   "id": "c35c6c0a",
   "metadata": {},
   "outputs": [
    {
     "data": {
      "text/html": [
       "<div>\n",
       "<style scoped>\n",
       "    .dataframe tbody tr th:only-of-type {\n",
       "        vertical-align: middle;\n",
       "    }\n",
       "\n",
       "    .dataframe tbody tr th {\n",
       "        vertical-align: top;\n",
       "    }\n",
       "\n",
       "    .dataframe thead th {\n",
       "        text-align: right;\n",
       "    }\n",
       "</style>\n",
       "<table border=\"1\" class=\"dataframe\">\n",
       "  <thead>\n",
       "    <tr style=\"text-align: right;\">\n",
       "      <th></th>\n",
       "      <th>SEX</th>\n",
       "      <th>AGE</th>\n",
       "      <th>DEATH</th>\n",
       "      <th>TIMEDTH</th>\n",
       "    </tr>\n",
       "    <tr>\n",
       "      <th>RANDID</th>\n",
       "      <th></th>\n",
       "      <th></th>\n",
       "      <th></th>\n",
       "      <th></th>\n",
       "    </tr>\n",
       "  </thead>\n",
       "  <tbody>\n",
       "    <tr>\n",
       "      <th>2448</th>\n",
       "      <td>1</td>\n",
       "      <td>39</td>\n",
       "      <td>0</td>\n",
       "      <td>8766</td>\n",
       "    </tr>\n",
       "    <tr>\n",
       "      <th>2448</th>\n",
       "      <td>1</td>\n",
       "      <td>52</td>\n",
       "      <td>0</td>\n",
       "      <td>8766</td>\n",
       "    </tr>\n",
       "  </tbody>\n",
       "</table>\n",
       "</div>"
      ],
      "text/plain": [
       "        SEX  AGE  DEATH  TIMEDTH\n",
       "RANDID                          \n",
       "2448      1   39      0     8766\n",
       "2448      1   52      0     8766"
      ]
     },
     "execution_count": 6,
     "metadata": {},
     "output_type": "execute_result"
    }
   ],
   "source": [
    "# read table\n",
    "public_link='https://raw.githubusercontent.com/singator/bdah/master/data/frmgham2.csv'\n",
    "df = pd.read_csv(public_link,index_col=0,usecols=['RANDID','AGE','SEX','DEATH','TIMEDTH'])\n",
    "df.head(2)"
   ]
  },
  {
   "cell_type": "code",
   "execution_count": 7,
   "id": "d49a9866-9c47-43a1-8b8e-7dbb2b255b81",
   "metadata": {},
   "outputs": [
    {
     "data": {
      "text/html": [
       "<div>\n",
       "<style scoped>\n",
       "    .dataframe tbody tr th:only-of-type {\n",
       "        vertical-align: middle;\n",
       "    }\n",
       "\n",
       "    .dataframe tbody tr th {\n",
       "        vertical-align: top;\n",
       "    }\n",
       "\n",
       "    .dataframe thead th {\n",
       "        text-align: right;\n",
       "    }\n",
       "</style>\n",
       "<table border=\"1\" class=\"dataframe\">\n",
       "  <thead>\n",
       "    <tr style=\"text-align: right;\">\n",
       "      <th></th>\n",
       "      <th>SEX</th>\n",
       "      <th>AGE</th>\n",
       "      <th>DEATH</th>\n",
       "      <th>TIMEDTH</th>\n",
       "    </tr>\n",
       "    <tr>\n",
       "      <th>RANDID</th>\n",
       "      <th></th>\n",
       "      <th></th>\n",
       "      <th></th>\n",
       "      <th></th>\n",
       "    </tr>\n",
       "  </thead>\n",
       "  <tbody>\n",
       "    <tr>\n",
       "      <th>2448</th>\n",
       "      <td>1</td>\n",
       "      <td>39</td>\n",
       "      <td>0</td>\n",
       "      <td>8766</td>\n",
       "    </tr>\n",
       "    <tr>\n",
       "      <th>6238</th>\n",
       "      <td>2</td>\n",
       "      <td>46</td>\n",
       "      <td>0</td>\n",
       "      <td>8766</td>\n",
       "    </tr>\n",
       "  </tbody>\n",
       "</table>\n",
       "</div>"
      ],
      "text/plain": [
       "        SEX  AGE  DEATH  TIMEDTH\n",
       "RANDID                          \n",
       "2448      1   39      0     8766\n",
       "6238      2   46      0     8766"
      ]
     },
     "execution_count": 7,
     "metadata": {},
     "output_type": "execute_result"
    }
   ],
   "source": [
    "# make unique\n",
    "df=df.groupby('RANDID').min()\n",
    "df.head(2)"
   ]
  },
  {
   "cell_type": "code",
   "execution_count": 8,
   "id": "8a11602e-f31a-494e-846b-957efbfb6ae6",
   "metadata": {},
   "outputs": [],
   "source": [
    "# add cause of death\n",
    "df['CDEATH']=999"
   ]
  },
  {
   "cell_type": "code",
   "execution_count": 9,
   "id": "1ab5bc65-0f9c-49ca-ac03-81aaf314d171",
   "metadata": {},
   "outputs": [],
   "source": [
    "df.to_csv(os.getcwd()+'/processed/participants.csv')"
   ]
  }
 ],
 "metadata": {
  "kernelspec": {
   "display_name": "meth",
   "language": "python",
   "name": "meth"
  },
  "language_info": {
   "codemirror_mode": {
    "name": "ipython",
    "version": 3
   },
   "file_extension": ".py",
   "mimetype": "text/x-python",
   "name": "python",
   "nbconvert_exporter": "python",
   "pygments_lexer": "ipython3",
   "version": "3.9.7"
  }
 },
 "nbformat": 4,
 "nbformat_minor": 5
}
